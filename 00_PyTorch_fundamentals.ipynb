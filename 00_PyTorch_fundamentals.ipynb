{
  "nbformat": 4,
  "nbformat_minor": 0,
  "metadata": {
    "colab": {
      "provenance": [],
      "authorship_tag": "ABX9TyMlCqlHBPDvD2r1UdscNAWA",
      "include_colab_link": true
    },
    "kernelspec": {
      "name": "python3",
      "display_name": "Python 3"
    },
    "language_info": {
      "name": "python"
    }
  },
  "cells": [
    {
      "cell_type": "markdown",
      "metadata": {
        "id": "view-in-github",
        "colab_type": "text"
      },
      "source": [
        "<a href=\"https://colab.research.google.com/github/zahed3795/AI_QA_Testing/blob/main/00_PyTorch_fundamentals.ipynb\" target=\"_parent\"><img src=\"https://colab.research.google.com/assets/colab-badge.svg\" alt=\"Open In Colab\"/></a>"
      ]
    },
    {
      "cell_type": "code",
      "source": [
        "## PyTorch Fundamentals\n"
      ],
      "metadata": {
        "id": "fB26c88FeM_q"
      },
      "execution_count": null,
      "outputs": []
    },
    {
      "cell_type": "code",
      "execution_count": 3,
      "metadata": {
        "colab": {
          "base_uri": "https://localhost:8080/"
        },
        "id": "24ZPTFzfTwhV",
        "outputId": "fc9fc617-8ae6-43a6-a840-619ce3c4b6bf"
      },
      "outputs": [
        {
          "output_type": "stream",
          "name": "stdout",
          "text": [
            "Hello!!!!\n",
            "I am excited to learn PyTorch\n",
            "2.5.1+cu124\n"
          ]
        }
      ],
      "source": [
        "print(\"Hello!!!!\\nI am excited to learn PyTorch\")\n",
        "\n",
        "import  pandas as pd\n",
        "import numpy as np\n",
        "import matplotlib.pyplot as plt\n",
        "import  torch\n",
        "print(torch.__version__)\n",
        "\n",
        "## Introduction to Tensors\n",
        "\n"
      ]
    },
    {
      "cell_type": "markdown",
      "source": [
        "PyTorch tensors are created using 'torch.Tensor()' ="
      ],
      "metadata": {
        "id": "tHtmNpaqI74D"
      }
    },
    {
      "cell_type": "code",
      "source": [
        "# Scalar\n",
        "import   torch\n",
        "scalar = torch.tensor(7)\n",
        "scalar"
      ],
      "metadata": {
        "colab": {
          "base_uri": "https://localhost:8080/"
        },
        "id": "VlEAK6DAIYTP",
        "outputId": "1e82fc93-6b8e-4e8c-c81b-df773c0e4216"
      },
      "execution_count": 4,
      "outputs": [
        {
          "output_type": "execute_result",
          "data": {
            "text/plain": [
              "tensor(7)"
            ]
          },
          "metadata": {},
          "execution_count": 4
        }
      ]
    },
    {
      "cell_type": "code",
      "source": [
        "#Vector\n",
        "vector = torch.tensor([7,7])\n",
        "vector"
      ],
      "metadata": {
        "colab": {
          "base_uri": "https://localhost:8080/"
        },
        "id": "MIblxW8LdQ-1",
        "outputId": "21767989-0a22-47f9-ac26-ec1742830c43"
      },
      "execution_count": null,
      "outputs": [
        {
          "output_type": "execute_result",
          "data": {
            "text/plain": [
              "tensor([7, 7])"
            ]
          },
          "metadata": {},
          "execution_count": 7
        }
      ]
    },
    {
      "cell_type": "code",
      "source": [
        "scalar.ndim\n",
        "# Get tensor back as Python int\n",
        "scalar.item()"
      ],
      "metadata": {
        "colab": {
          "base_uri": "https://localhost:8080/"
        },
        "id": "Tntm5wgrcvFc",
        "outputId": "d3dbb029-c185-4b4b-90e4-29413c0cdd51"
      },
      "execution_count": null,
      "outputs": [
        {
          "output_type": "execute_result",
          "data": {
            "text/plain": [
              "7"
            ]
          },
          "metadata": {},
          "execution_count": 8
        }
      ]
    },
    {
      "cell_type": "code",
      "source": [
        "vector.ndim\n"
      ],
      "metadata": {
        "colab": {
          "base_uri": "https://localhost:8080/"
        },
        "id": "U6Jc-t-Pn5FF",
        "outputId": "8c351501-1cf9-440a-c6b0-01aba4a95821"
      },
      "execution_count": null,
      "outputs": [
        {
          "output_type": "execute_result",
          "data": {
            "text/plain": [
              "1"
            ]
          },
          "metadata": {},
          "execution_count": 9
        }
      ]
    },
    {
      "cell_type": "code",
      "source": [
        "vector.shape"
      ],
      "metadata": {
        "colab": {
          "base_uri": "https://localhost:8080/"
        },
        "id": "NddWxtnLoAig",
        "outputId": "e2ee1727-3cfd-4684-8c3c-734757711fa7"
      },
      "execution_count": null,
      "outputs": [
        {
          "output_type": "execute_result",
          "data": {
            "text/plain": [
              "torch.Size([2])"
            ]
          },
          "metadata": {},
          "execution_count": 10
        }
      ]
    },
    {
      "cell_type": "code",
      "source": [
        "MATRIX = torch.tensor([[7,8],\n",
        "              [9,10]])\n",
        "MATRIX"
      ],
      "metadata": {
        "colab": {
          "base_uri": "https://localhost:8080/"
        },
        "id": "zMlmn_nioEdi",
        "outputId": "d3e5667e-0f01-46aa-de07-6f85af9a9918"
      },
      "execution_count": null,
      "outputs": [
        {
          "output_type": "execute_result",
          "data": {
            "text/plain": [
              "tensor([[ 7,  8],\n",
              "        [ 9, 10]])"
            ]
          },
          "metadata": {},
          "execution_count": 12
        }
      ]
    },
    {
      "cell_type": "code",
      "source": [
        "# Tensor\n",
        "TENSOR = torch.tensor([[[[1,2,4],\n",
        "                        [3,5,6],\n",
        "                        [8,9,0],\n",
        "                        [1,2,3]]]])\n",
        "\n",
        "TENSOR"
      ],
      "metadata": {
        "colab": {
          "base_uri": "https://localhost:8080/"
        },
        "id": "war-YnrjfD2c",
        "outputId": "cc4fa1e0-39c8-45b6-b7b7-9d499a91dc84"
      },
      "execution_count": 18,
      "outputs": [
        {
          "output_type": "execute_result",
          "data": {
            "text/plain": [
              "tensor([[[[1, 2, 4],\n",
              "          [3, 5, 6],\n",
              "          [8, 9, 0],\n",
              "          [1, 2, 3]]]])"
            ]
          },
          "metadata": {},
          "execution_count": 18
        }
      ]
    },
    {
      "cell_type": "code",
      "source": [
        "TENSOR.ndim"
      ],
      "metadata": {
        "colab": {
          "base_uri": "https://localhost:8080/"
        },
        "id": "zvg8soiVKs_2",
        "outputId": "bf84a965-904c-44db-bd30-3a4558076aa2"
      },
      "execution_count": 11,
      "outputs": [
        {
          "output_type": "execute_result",
          "data": {
            "text/plain": [
              "4"
            ]
          },
          "metadata": {},
          "execution_count": 11
        }
      ]
    },
    {
      "cell_type": "code",
      "source": [
        "TENSOR.shape\n",
        "\n",
        "#DIMENSION\n",
        "#dim=0\n",
        "#dim=1\n",
        "#dim=2"
      ],
      "metadata": {
        "colab": {
          "base_uri": "https://localhost:8080/"
        },
        "id": "e9yUv4avLETx",
        "outputId": "ecdc26f6-f892-4042-f447-b9f5e6dff3dd"
      },
      "execution_count": 15,
      "outputs": [
        {
          "output_type": "execute_result",
          "data": {
            "text/plain": [
              "torch.Size([1, 1, 4, 3])"
            ]
          },
          "metadata": {},
          "execution_count": 15
        }
      ]
    },
    {
      "cell_type": "code",
      "source": [
        "### Random Tensors"
      ],
      "metadata": {
        "id": "HGA4BOGrNVig"
      },
      "execution_count": null,
      "outputs": []
    },
    {
      "cell_type": "markdown",
      "source": [
        "### Random Tensors\n",
        "\n",
        "Why random Tensor?\n",
        "\n",
        "Random Tensor are important becasue the way many neural networks learn is that they start with tensor full of random numbers and then adjust those random numbers to better represent the data. 'Start with random numbers -> look at data -> Update random numbers -> look at data ->Update the random number'\n",
        ""
      ],
      "metadata": {
        "id": "ZZinRoKNNhHl"
      }
    },
    {
      "cell_type": "code",
      "source": [
        "random_tensor = torch.rand(3,4)\n",
        "random_tensor\n"
      ],
      "metadata": {
        "colab": {
          "base_uri": "https://localhost:8080/"
        },
        "id": "24KdoGdZPRQV",
        "outputId": "60fd2b44-fb3c-4263-802e-aef606b8c980"
      },
      "execution_count": 19,
      "outputs": [
        {
          "output_type": "execute_result",
          "data": {
            "text/plain": [
              "tensor([[0.9717, 0.0847, 0.9895, 0.5310],\n",
              "        [0.7060, 0.3387, 0.4556, 0.1982],\n",
              "        [0.5442, 0.9117, 0.0931, 0.8746]])"
            ]
          },
          "metadata": {},
          "execution_count": 19
        }
      ]
    },
    {
      "cell_type": "code",
      "source": [
        "random_tensor.ndim\n"
      ],
      "metadata": {
        "colab": {
          "base_uri": "https://localhost:8080/"
        },
        "id": "VdxhnqshP1L0",
        "outputId": "2aaef7e1-7807-4360-8a7b-5338c194cccc"
      },
      "execution_count": 20,
      "outputs": [
        {
          "output_type": "execute_result",
          "data": {
            "text/plain": [
              "2"
            ]
          },
          "metadata": {},
          "execution_count": 20
        }
      ]
    },
    {
      "cell_type": "code",
      "source": [
        "random_image_size_tensor = torch.rand(size=(3795,3795,1)) # Height, Width, Color channel\n",
        "random_image_size_tensor.shape , random_image_size_tensor.ndim"
      ],
      "metadata": {
        "colab": {
          "base_uri": "https://localhost:8080/"
        },
        "id": "To3GCpl6Q0ft",
        "outputId": "3f01ce3d-9654-4565-dfba-b0e262534412"
      },
      "execution_count": 22,
      "outputs": [
        {
          "output_type": "execute_result",
          "data": {
            "text/plain": [
              "(torch.Size([3795, 3795, 1]), 3)"
            ]
          },
          "metadata": {},
          "execution_count": 22
        }
      ]
    }
  ]
}